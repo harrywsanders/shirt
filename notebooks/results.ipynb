{
 "cells": [
  {
   "cell_type": "code",
   "execution_count": 46,
   "id": "f6fecab1-c798-4bfe-aa85-de174a1c5ccc",
   "metadata": {},
   "outputs": [],
   "source": [
    "import re\n",
    "import numpy as np\n",
    "import sys\n",
    "import pandas as pd\n",
    "sys.path.append('../shirt/')\n",
    "from definitions import *\n",
    "\n",
    "methods = ['shirt','nonft','random','deft']\n",
    "\n",
    "def extract_acc_norm(file_path):\n",
    "    \"\"\"\n",
    "    Extracts the acc_norm value and its standard error from a text file by isolating\n",
    "    the string following \"acc_norm\" and then using regex to extract numbers.\n",
    "\n",
    "    Args:\n",
    "    - file_path (str): Path to the text file.\n",
    "\n",
    "    Returns:\n",
    "    - list of tuples: Each tuple contains (acc_norm_value, stderr).\n",
    "    \"\"\"\n",
    "    acc_norm_results = []\n",
    "\n",
    "    with open(file_path, 'r') as file:\n",
    "        for line in file:\n",
    "            if \"acc_norm\" in line:\n",
    "                # Isolate the part of the line after \"acc_norm\"\n",
    "                after_acc_norm = line.split(\"acc_norm\")[1]\n",
    "                # Use regex to extract two floating-point numbers\n",
    "                numbers = re.findall(r\"(\\d\\.\\d+)\", after_acc_norm)\n",
    "                if len(numbers) >= 2:\n",
    "                    acc_norm_value = float(numbers[0])\n",
    "                    stderr = float(numbers[1])\n",
    "                    acc_norm_results.append((acc_norm_value, stderr))\n",
    "\n",
    "    return acc_norm_results"
   ]
  },
  {
   "cell_type": "code",
   "execution_count": 75,
   "id": "ba698503-2ebd-4434-9d4b-7fab159197f8",
   "metadata": {},
   "outputs": [],
   "source": [
    "k=12"
   ]
  },
  {
   "cell_type": "code",
   "execution_count": 76,
   "id": "5a217ed7-669c-4f99-a1cb-ba43381ca577",
   "metadata": {},
   "outputs": [
    {
     "ename": "FileNotFoundError",
     "evalue": "[Errno 2] No such file or directory: '../evals/shirt_5_200_bbh_navigate/lm_eval_results_stdout.txt'",
     "output_type": "error",
     "traceback": [
      "\u001b[0;31m---------------------------------------------------------------------------\u001b[0m",
      "\u001b[0;31mFileNotFoundError\u001b[0m                         Traceback (most recent call last)",
      "Cell \u001b[0;32mIn[76], line 7\u001b[0m\n\u001b[1;32m      5\u001b[0m \u001b[38;5;28;01mfor\u001b[39;00m bench \u001b[38;5;129;01min\u001b[39;00m benchmarks[:k]:\n\u001b[1;32m      6\u001b[0m     file_path \u001b[38;5;241m=\u001b[39m \u001b[38;5;124mf\u001b[39m\u001b[38;5;124m'\u001b[39m\u001b[38;5;124m../evals/\u001b[39m\u001b[38;5;132;01m{\u001b[39;00mmethod\u001b[38;5;132;01m}\u001b[39;00m\u001b[38;5;124m_5_200_\u001b[39m\u001b[38;5;132;01m{\u001b[39;00mbench\u001b[38;5;241m.\u001b[39mreplace(\u001b[38;5;124m\"\u001b[39m\u001b[38;5;124mleaderboard_\u001b[39m\u001b[38;5;124m\"\u001b[39m,\u001b[38;5;124m\"\u001b[39m\u001b[38;5;124m\"\u001b[39m)\u001b[38;5;132;01m}\u001b[39;00m\u001b[38;5;124m/lm_eval_results_stdout.txt\u001b[39m\u001b[38;5;124m'\u001b[39m\n\u001b[0;32m----> 7\u001b[0m     out \u001b[38;5;241m=\u001b[39m extract_acc_norm(file_path)[\u001b[38;5;241m0\u001b[39m]\n\u001b[1;32m      8\u001b[0m     out \u001b[38;5;241m=\u001b[39m [np\u001b[38;5;241m.\u001b[39mround(\u001b[38;5;241m100\u001b[39m\u001b[38;5;241m*\u001b[39mo,\u001b[38;5;241m1\u001b[39m) \u001b[38;5;28;01mfor\u001b[39;00m o \u001b[38;5;129;01min\u001b[39;00m out]\n\u001b[1;32m      9\u001b[0m     results[method]\u001b[38;5;241m.\u001b[39mappend(\u001b[38;5;124mf\u001b[39m\u001b[38;5;124m\"\u001b[39m\u001b[38;5;132;01m{\u001b[39;00mout[\u001b[38;5;241m0\u001b[39m]\u001b[38;5;132;01m}\u001b[39;00m\u001b[38;5;124m±\u001b[39m\u001b[38;5;132;01m{\u001b[39;00mout[\u001b[38;5;241m1\u001b[39m]\u001b[38;5;132;01m}\u001b[39;00m\u001b[38;5;124m\"\u001b[39m)\n",
      "Cell \u001b[0;32mIn[46], line 24\u001b[0m, in \u001b[0;36mextract_acc_norm\u001b[0;34m(file_path)\u001b[0m\n\u001b[1;32m     12\u001b[0m \u001b[38;5;250m\u001b[39m\u001b[38;5;124;03m\"\"\"\u001b[39;00m\n\u001b[1;32m     13\u001b[0m \u001b[38;5;124;03mExtracts the acc_norm value and its standard error from a text file by isolating\u001b[39;00m\n\u001b[1;32m     14\u001b[0m \u001b[38;5;124;03mthe string following \"acc_norm\" and then using regex to extract numbers.\u001b[39;00m\n\u001b[0;32m   (...)\u001b[0m\n\u001b[1;32m     20\u001b[0m \u001b[38;5;124;03m- list of tuples: Each tuple contains (acc_norm_value, stderr).\u001b[39;00m\n\u001b[1;32m     21\u001b[0m \u001b[38;5;124;03m\"\"\"\u001b[39;00m\n\u001b[1;32m     22\u001b[0m acc_norm_results \u001b[38;5;241m=\u001b[39m []\n\u001b[0;32m---> 24\u001b[0m \u001b[38;5;28;01mwith\u001b[39;00m \u001b[38;5;28mopen\u001b[39m(file_path, \u001b[38;5;124m'\u001b[39m\u001b[38;5;124mr\u001b[39m\u001b[38;5;124m'\u001b[39m) \u001b[38;5;28;01mas\u001b[39;00m file:\n\u001b[1;32m     25\u001b[0m     \u001b[38;5;28;01mfor\u001b[39;00m line \u001b[38;5;129;01min\u001b[39;00m file:\n\u001b[1;32m     26\u001b[0m         \u001b[38;5;28;01mif\u001b[39;00m \u001b[38;5;124m\"\u001b[39m\u001b[38;5;124macc_norm\u001b[39m\u001b[38;5;124m\"\u001b[39m \u001b[38;5;129;01min\u001b[39;00m line:\n\u001b[1;32m     27\u001b[0m             \u001b[38;5;66;03m# Isolate the part of the line after \"acc_norm\"\u001b[39;00m\n",
      "File \u001b[0;32m~/miniconda3/envs/arena/lib/python3.12/site-packages/IPython/core/interactiveshell.py:310\u001b[0m, in \u001b[0;36m_modified_open\u001b[0;34m(file, *args, **kwargs)\u001b[0m\n\u001b[1;32m    303\u001b[0m \u001b[38;5;28;01mif\u001b[39;00m file \u001b[38;5;129;01min\u001b[39;00m {\u001b[38;5;241m0\u001b[39m, \u001b[38;5;241m1\u001b[39m, \u001b[38;5;241m2\u001b[39m}:\n\u001b[1;32m    304\u001b[0m     \u001b[38;5;28;01mraise\u001b[39;00m \u001b[38;5;167;01mValueError\u001b[39;00m(\n\u001b[1;32m    305\u001b[0m         \u001b[38;5;124mf\u001b[39m\u001b[38;5;124m\"\u001b[39m\u001b[38;5;124mIPython won\u001b[39m\u001b[38;5;124m'\u001b[39m\u001b[38;5;124mt let you open fd=\u001b[39m\u001b[38;5;132;01m{\u001b[39;00mfile\u001b[38;5;132;01m}\u001b[39;00m\u001b[38;5;124m by default \u001b[39m\u001b[38;5;124m\"\u001b[39m\n\u001b[1;32m    306\u001b[0m         \u001b[38;5;124m\"\u001b[39m\u001b[38;5;124mas it is likely to crash IPython. If you know what you are doing, \u001b[39m\u001b[38;5;124m\"\u001b[39m\n\u001b[1;32m    307\u001b[0m         \u001b[38;5;124m\"\u001b[39m\u001b[38;5;124myou can use builtins\u001b[39m\u001b[38;5;124m'\u001b[39m\u001b[38;5;124m open.\u001b[39m\u001b[38;5;124m\"\u001b[39m\n\u001b[1;32m    308\u001b[0m     )\n\u001b[0;32m--> 310\u001b[0m \u001b[38;5;28;01mreturn\u001b[39;00m io_open(file, \u001b[38;5;241m*\u001b[39margs, \u001b[38;5;241m*\u001b[39m\u001b[38;5;241m*\u001b[39mkwargs)\n",
      "\u001b[0;31mFileNotFoundError\u001b[0m: [Errno 2] No such file or directory: '../evals/shirt_5_200_bbh_navigate/lm_eval_results_stdout.txt'"
     ]
    }
   ],
   "source": [
    "results = {}\n",
    "\n",
    "for method in methods:\n",
    "    results[method] = []\n",
    "    for bench in benchmarks[:k]:\n",
    "        file_path = f'../evals/{method}_5_200_{bench.replace(\"leaderboard_\",\"\")}/lm_eval_results_stdout.txt'\n",
    "        out = extract_acc_norm(file_path)[0]\n",
    "        out = [np.round(100*o,1) for o in out]\n",
    "        results[method].append(f\"{out[0]}±{out[1]}\")\n",
    "results = pd.DataFrame(results)\n",
    "results.index = [b.replace(\"leaderboard_\",\"\") for b in benchmarks[:k]]\n",
    "results"
   ]
  },
  {
   "cell_type": "code",
   "execution_count": null,
   "id": "1487324b-dc9c-4777-a9a3-8cbce4e3de62",
   "metadata": {},
   "outputs": [],
   "source": []
  }
 ],
 "metadata": {
  "kernelspec": {
   "display_name": "Python 3 (ipykernel)",
   "language": "python",
   "name": "python3"
  },
  "language_info": {
   "codemirror_mode": {
    "name": "ipython",
    "version": 3
   },
   "file_extension": ".py",
   "mimetype": "text/x-python",
   "name": "python",
   "nbconvert_exporter": "python",
   "pygments_lexer": "ipython3",
   "version": "3.12.3"
  }
 },
 "nbformat": 4,
 "nbformat_minor": 5
}
